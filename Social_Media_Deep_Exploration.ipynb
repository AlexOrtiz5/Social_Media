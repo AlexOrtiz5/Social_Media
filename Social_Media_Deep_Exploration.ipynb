{
 "cells": [
  {
   "cell_type": "markdown",
   "id": "480ebeaf",
   "metadata": {},
   "source": [
    "# Import libraries"
   ]
  },
  {
   "cell_type": "code",
   "execution_count": 1,
   "id": "90315d2a",
   "metadata": {},
   "outputs": [],
   "source": [
    "import pandas as pd\n",
    "import seaborn as sns\n",
    "import matplotlib.pyplot as plt\n",
    "import numpy as np"
   ]
  },
  {
   "cell_type": "code",
   "execution_count": 2,
   "id": "2af4ac9e",
   "metadata": {},
   "outputs": [],
   "source": [
    "# read instagram\n",
    "insta_df = pd.read_csv('./Clean_Data/merged_instagram_data_cleaned.csv')\n",
    "\n",
    "# read tiktok\n",
    "tiktok_df = pd.read_csv('./Clean_Data/merged_tiktok_data_cleaned.csv')\n",
    "\n",
    "# read youtube\n",
    "youtube_df = pd.read_csv('./Clean_Data/merged_youtube_data_cleaned.csv')"
   ]
  },
  {
   "cell_type": "code",
   "execution_count": 10,
   "id": "4c5b2f42",
   "metadata": {},
   "outputs": [],
   "source": [
    "def calculate_engagement_rate(row, like_col, comment_col, subscriber_col, view_col=None, share_col=None):\n",
    "    likes = row[like_col] if like_col in row else 0\n",
    "    comments = row[comment_col] if comment_col in row else 0\n",
    "    views = row[view_col] if view_col in row else 0\n",
    "    shares = row[share_col] if share_col in row else 0\n",
    "    subscribers = row[subscriber_col] if subscriber_col in row else 0\n",
    "\n",
    "    total_engagement = likes + comments + views + shares\n",
    "\n",
    "    if subscribers > 0:\n",
    "        return (total_engagement / subscribers) * 100\n",
    "    else:\n",
    "        return 0  # Or return np.nan or some other value"
   ]
  },
  {
   "cell_type": "code",
   "execution_count": 12,
   "id": "3f076c86",
   "metadata": {},
   "outputs": [
    {
     "name": "stdout",
     "output_type": "stream",
     "text": [
      "\n",
      "Data types for Instagram engagement columns:\n",
      "likes_avg: object\n",
      "comments_avg: object\n",
      "views_avg: object\n",
      "\n",
      "Data types for TikTok engagement columns:\n",
      "likes_avg: float64\n",
      "comments_avg: float64\n",
      "views_avg: float64\n",
      "shares_avg: float64\n",
      "\n",
      "Data types for YouTube engagement columns:\n",
      "avg_likes: float64\n",
      "avg_comments: float64\n",
      "avg_views: float64\n",
      "Could not calculate engagement rate for any of the platforms due to missing data.\n"
     ]
    }
   ],
   "source": [
    "def compare_engagement_across_platforms(insta_df, tiktok_df, youtube_df):\n",
    "    engagement_data = []\n",
    "\n",
    "    # Inside the Instagram processing block\n",
    "    if insta_df is not None and 'likes_avg' in insta_df.columns and 'comments_avg' in insta_df.columns and 'subscribers' in insta_df.columns and 'instagram_name' in insta_df.columns:\n",
    "        print(\"\\nData types for Instagram engagement columns:\")\n",
    "        print(f\"likes_avg: {insta_df['likes_avg'].dtype}\")\n",
    "        print(f\"comments_avg: {insta_df['comments_avg'].dtype}\")\n",
    "        if 'views_avg' in insta_df.columns:\n",
    "            print(f\"views_avg: {insta_df['views_avg'].dtype}\")\n",
    "        if 'shares_avg' in insta_df.columns:\n",
    "            print(f\"shares_avg: {insta_df['shares_avg'].dtype}\")\n",
    "        # ... rest of the Instagram processing code\n",
    "\n",
    "    # Inside the TikTok processing block\n",
    "    if tiktok_df is not None and 'likes_avg' in tiktok_df.columns and 'comments_avg' in tiktok_df.columns and 'subscribers' in tiktok_df.columns and 'tiktoker_name' in tiktok_df.columns:\n",
    "        print(\"\\nData types for TikTok engagement columns:\")\n",
    "        print(f\"likes_avg: {tiktok_df['likes_avg'].dtype}\")\n",
    "        print(f\"comments_avg: {tiktok_df['comments_avg'].dtype}\")\n",
    "        if 'views_avg' in tiktok_df.columns:\n",
    "            print(f\"views_avg: {tiktok_df['views_avg'].dtype}\")\n",
    "        if 'shares_avg' in tiktok_df.columns:\n",
    "            print(f\"shares_avg: {tiktok_df['shares_avg'].dtype}\")\n",
    "        # ... rest of the TikTok processing code\n",
    "\n",
    "    # Inside the YouTube processing block\n",
    "    if youtube_df is not None and 'avg_likes' in youtube_df.columns and 'avg_comments' in youtube_df.columns and 'subscribers' in youtube_df.columns and 'youtuber_name' in youtube_df.columns and 'avg_views' in youtube_df.columns:\n",
    "        print(\"\\nData types for YouTube engagement columns:\")\n",
    "        print(f\"avg_likes: {youtube_df['avg_likes'].dtype}\")\n",
    "        print(f\"avg_comments: {youtube_df['avg_comments'].dtype}\")\n",
    "        if 'avg_views' in youtube_df.columns:\n",
    "            print(f\"avg_views: {youtube_df['avg_views'].dtype}\")\n",
    "        if 'shares_avg' in youtube_df.columns: # Assuming you might have a shares column for YouTube later\n",
    "            print(f\"shares_avg: {youtube_df['shares_avg'].dtype}\")\n",
    "        # ... rest of the YouTube processing code\n",
    "    elif youtube_df is not None and 'likes_avg' in youtube_df.columns and 'comments_avg' in youtube_df.columns and 'subscribers' in youtube_df.columns and 'youtuber_name' in youtube_df.columns and 'views_avg' in youtube_df.columns:\n",
    "        print(\"\\nData types for YouTube engagement columns (alternative):\")\n",
    "        print(f\"likes_avg: {youtube_df['likes_avg'].dtype}\")\n",
    "        print(f\"comments_avg: {youtube_df['comments_avg'].dtype}\")\n",
    "        if 'views_avg' in youtube_df.columns:\n",
    "            print(f\"views_avg: {youtube_df['views_avg'].dtype}\")\n",
    "\n",
    "    if engagement_data:\n",
    "        engagement_df = pd.DataFrame(engagement_data)\n",
    "        engagement_df['engagement_rate'] = engagement_df['engagement_rate'].replace([np.inf, -np.inf], np.nan).dropna()\n",
    "\n",
    "        print(\"\\n--- Comparative Analysis of Engagement Across Platforms ---\")\n",
    "        print(\"\\nAverage Engagement Rate by Platform:\")\n",
    "        print(engagement_df.groupby('platform')['engagement_rate'].mean().sort_values(ascending=False))\n",
    "\n",
    "        plt.figure(figsize=(10, 7))\n",
    "        sns.boxplot(x='platform', y='engagement_rate', data=engagement_df)\n",
    "        plt.title('Comparison of Engagement Rates Across Platforms')\n",
    "        plt.xlabel('Platform')\n",
    "        plt.ylabel('Engagement Rate (%)')\n",
    "        plt.yscale('log') # Using log scale to handle potential outliers\n",
    "        plt.show()\n",
    "\n",
    "        plt.figure(figsize=(12, 8))\n",
    "        sns.violinplot(x='platform', y='engagement_rate', data=engagement_df)\n",
    "        plt.title('Distribution of Engagement Rates Across Platforms')\n",
    "        plt.xlabel('Platform')\n",
    "        plt.ylabel('Engagement Rate (%)')\n",
    "        plt.yscale('log') # Using log scale to handle potential outliers\n",
    "        plt.show()\n",
    "    else:\n",
    "        print(\"Could not calculate engagement rate for any of the platforms due to missing data.\")\n",
    "\n",
    "# Assuming your DataFrames are named insta_df, tiktok_df, youtube_df\n",
    "compare_engagement_across_platforms(insta_df, tiktok_df, youtube_df)"
   ]
  }
 ],
 "metadata": {
  "kernelspec": {
   "display_name": "streamlit_pycaret",
   "language": "python",
   "name": "python3"
  },
  "language_info": {
   "codemirror_mode": {
    "name": "ipython",
    "version": 3
   },
   "file_extension": ".py",
   "mimetype": "text/x-python",
   "name": "python",
   "nbconvert_exporter": "python",
   "pygments_lexer": "ipython3",
   "version": "3.11.7"
  }
 },
 "nbformat": 4,
 "nbformat_minor": 5
}
